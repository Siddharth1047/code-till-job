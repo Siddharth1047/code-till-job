{
 "cells": [
  {
   "cell_type": "markdown",
   "metadata": {},
   "source": [
    "#### I got this problem grom GeeksForGeeks\n",
    "##### [Problem1](https://practice.geeksforgeeks.org/problems/detect-loop-in-linked-list/1?page=1&difficulty[]=-1&difficulty[]=0&category[]=Linked%20List&sortBy=submissions)\n",
    "##### [Problem2](https://practice.geeksforgeeks.org/problems/finding-middle-element-in-a-linked-list/1?page=1&difficulty[]=-1&difficulty[]=0&category[]=Linked%20List&sortBy=submissions)"
   ]
  },
  {
   "cell_type": "code",
   "execution_count": 1,
   "metadata": {
    "id": "uxAIPvC5CkO5"
   },
   "outputs": [],
   "source": [
    "class Node(object):\n",
    "  \n",
    "  def __init__(self, value):\n",
    "\n",
    "    self.value = value\n",
    "    self.nextnode = None\n",
    "  \n",
    "def cycle_check(node):\n",
    "\n",
    "  marker1 = node\n",
    "  marker2 = node\n",
    "\n",
    "  while marker2 != None and marker2.nextnode != None:\n",
    "\n",
    "    marker1 = marker1.nextnode\n",
    "    marker2 = marker2.nextnode.nextnode\n",
    "\n",
    "    if marker1 == marker2:\n",
    "      return True\n",
    "\n",
    "  return False"
   ]
  },
  {
   "cell_type": "code",
   "execution_count": 4,
   "metadata": {
    "colab": {
     "base_uri": "https://localhost:8080/"
    },
    "id": "OfYgmbT5DNoc",
    "outputId": "4a82f2bc-f6c5-4738-f72b-dd81b1aebaaf"
   },
   "outputs": [
    {
     "name": "stdout",
     "output_type": "stream",
     "text": [
      "ALL TEST CASES PASSED\n"
     ]
    }
   ],
   "source": [
    "\"\"\"\n",
    "RUN THIS CELL TO TEST YOUR SOLUTION\n",
    "\"\"\"\n",
    "from nose.tools import assert_equal\n",
    "\n",
    "# CREATE CYCLE LIST\n",
    "a = Node(1)\n",
    "b = Node(2)\n",
    "c = Node(3)\n",
    "\n",
    "a.nextnode = b\n",
    "b.nextnode = c\n",
    "c.nextnode = a # Cycle Here!\n",
    "\n",
    "\n",
    "# CREATE NON CYCLE LIST\n",
    "x = Node(1)\n",
    "y = Node(2)\n",
    "z = Node(3)\n",
    "\n",
    "x.nextnode = y\n",
    "y.nextnode = z\n",
    "\n",
    "\n",
    "#############\n",
    "class TestCycleCheck(object):\n",
    "    \n",
    "    def test(self,sol):\n",
    "        assert_equal(sol(a),True)\n",
    "        assert_equal(sol(x),False)\n",
    "        \n",
    "        print(\"ALL TEST CASES PASSED\")\n",
    "        \n",
    "# Run Tests\n",
    "\n",
    "t = TestCycleCheck()\n",
    "t.test(cycle_check)"
   ]
  },
  {
   "cell_type": "code",
   "execution_count": 3,
   "metadata": {
    "colab": {
     "base_uri": "https://localhost:8080/"
    },
    "id": "Doiw0qheDRDf",
    "outputId": "e440524a-1b32-4025-d55a-53b4ecdc28d8"
   },
   "outputs": [
    {
     "name": "stdout",
     "output_type": "stream",
     "text": [
      "Looking in indexes: https://pypi.org/simple, https://us-python.pkg.dev/colab-wheels/public/simple/\n",
      "Collecting nose\n",
      "  Downloading nose-1.3.7-py3-none-any.whl (154 kB)\n",
      "\u001b[?25l     \u001b[90m━━━━━━━━━━━━━━━━━━━━━━━━━━━━━━━━━━━━━━━━\u001b[0m \u001b[32m0.0/154.7 kB\u001b[0m \u001b[31m?\u001b[0m eta \u001b[36m-:--:--\u001b[0m\r",
      "\u001b[2K     \u001b[90m━━━━━━━━━━━━━━━━━━━━━━━━━━━━━━━━━━━━━━━\u001b[0m \u001b[32m154.7/154.7 kB\u001b[0m \u001b[31m4.6 MB/s\u001b[0m eta \u001b[36m0:00:00\u001b[0m\n",
      "\u001b[?25hInstalling collected packages: nose\n",
      "Successfully installed nose-1.3.7\n"
     ]
    }
   ],
   "source": [
    "!pip install nose"
   ]
  },
  {
   "cell_type": "code",
   "execution_count": 6,
   "metadata": {
    "colab": {
     "base_uri": "https://localhost:8080/",
     "height": 53
    },
    "id": "_QKz4g1pDfSc",
    "outputId": "fba1319d-1567-4a55-bc3f-fed6d34d777a"
   },
   "outputs": [
    {
     "data": {
      "application/vnd.google.colaboratory.intrinsic+json": {
       "type": "string"
      },
      "text/plain": [
       "'\\nExample: \\nInput:\\nLinkedList: 1->2->3->4->5\\nOutput: 3 \\nExplanation: \\nMiddle of linked list is 3.\\n\\nExample 2: \\nFor example, if the linked list given is 1->2->3->4->5->6, then the middle node of the list is 4.\\n'"
      ]
     },
     "execution_count": 6,
     "metadata": {},
     "output_type": "execute_result"
    }
   ],
   "source": [
    "# Finding the middle element of a linked list\n",
    "\"\"\"\n",
    "Example: \n",
    "Input:\n",
    "LinkedList: 1->2->3->4->5\n",
    "Output: 3 \n",
    "Explanation: \n",
    "Middle of linked list is 3.\n",
    "\n",
    "Example 2: \n",
    "For example, if the linked list given is 1->2->3->4->5->6, then the middle node of the list is 4.\n",
    "\"\"\""
   ]
  },
  {
   "cell_type": "code",
   "execution_count": 10,
   "metadata": {
    "id": "gz7lZR2UFVq8"
   },
   "outputs": [],
   "source": [
    "def getMiddle(head):\n",
    "\n",
    "  marker1 = head\n",
    "  marker2 = head\n",
    "\n",
    "  while marker2 != None and marker2.nextnode != None:\n",
    "\n",
    "    marker1 = marker1.nextnode\n",
    "    marker2 = marker2.nextnode.nextnode\n",
    "\n",
    "  return marker1.value"
   ]
  },
  {
   "cell_type": "code",
   "execution_count": 11,
   "metadata": {
    "colab": {
     "base_uri": "https://localhost:8080/"
    },
    "id": "O1i-xOLyGLyd",
    "outputId": "1a93f40e-3037-4a92-c2dd-c955653dc72b"
   },
   "outputs": [
    {
     "name": "stdout",
     "output_type": "stream",
     "text": [
      "Middle element:  3\n"
     ]
    }
   ],
   "source": [
    "# Example linked list: 1->2->3->4->5\n",
    "head = Node(1)\n",
    "head.nextnode = Node(2)\n",
    "head.nextnode.nextnode = Node(3)\n",
    "head.nextnode.nextnode.nextnode = Node(4)\n",
    "head.nextnode.nextnode.nextnode.nextnode = Node(5)\n",
    "\n",
    "# Call the function to get the middle element\n",
    "middle = getMiddle(head)\n",
    "\n",
    "print(\"Middle element: \", middle)  # Output: Middle element: 3\n"
   ]
  },
  {
   "cell_type": "code",
   "execution_count": 12,
   "metadata": {
    "colab": {
     "base_uri": "https://localhost:8080/"
    },
    "id": "SY1-pTWyGcRZ",
    "outputId": "5171057e-6235-4df9-a8c3-8a0fd8ec71e7"
   },
   "outputs": [
    {
     "name": "stdout",
     "output_type": "stream",
     "text": [
      "Middle element:  3\n"
     ]
    }
   ],
   "source": [
    "# Example linked list: 1->2->3->4->5->6\n",
    "head = Node(1)\n",
    "head.nextnode = Node(2)\n",
    "head.nextnode.nextnode = Node(3)\n",
    "head.nextnode.nextnode.nextnode = Node(4)\n",
    "head.nextnode.nextnode.nextnode.nextnode = Node(5)\n",
    "head.nextnode.nextnode.nextnode.nextnode.nextnode = Node(6)\n",
    "\n",
    "# Call the function to get the middle element\n",
    "middle2 = getMiddle(head)\n",
    "\n",
    "print(\"Middle element: \", middle)  # Output: Middle element: 4"
   ]
  },
  {
   "cell_type": "markdown",
   "metadata": {
    "id": "8o8OJv3vGmoe"
   },
   "source": [
    "#### The idea is that consider marker1 and marker2 in a race and \n",
    "#### marker2 is faster as compared to marker1 (so when marker2 reaches the end of the linked list, then marker1 will be at the middle element)"
   ]
  }
 ],
 "metadata": {
  "colab": {
   "provenance": []
  },
  "kernelspec": {
   "display_name": "Python 3 (ipykernel)",
   "language": "python",
   "name": "python3"
  },
  "language_info": {
   "codemirror_mode": {
    "name": "ipython",
    "version": 3
   },
   "file_extension": ".py",
   "mimetype": "text/x-python",
   "name": "python",
   "nbconvert_exporter": "python",
   "pygments_lexer": "ipython3",
   "version": "3.9.13"
  }
 },
 "nbformat": 4,
 "nbformat_minor": 1
}
